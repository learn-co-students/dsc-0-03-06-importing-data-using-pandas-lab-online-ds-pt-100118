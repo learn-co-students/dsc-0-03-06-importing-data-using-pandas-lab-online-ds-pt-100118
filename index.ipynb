{
 "cells": [
  {
   "cell_type": "markdown",
   "metadata": {},
   "source": [
    "# Importing Data Using Pandas - Lab"
   ]
  },
  {
   "cell_type": "markdown",
   "metadata": {},
   "source": [
    "## Introduction\n",
    "\n",
    "In this lab, you'll get some practice with loading files with summary or metadata, and if you find that easy, the optional \"level up\" (content covers loading data from a currupted csv file!"
   ]
  },
  {
   "cell_type": "markdown",
   "metadata": {},
   "source": [
    "## Objectives\n",
    "You will be able to:\n",
    "* Import data from csv files and Excel files\n",
    "* Understand and explain key arguments for imports\n",
    "* Save information to csv and Excel files\n",
    "* Access data within a Pandas DataFrame (print() and .head())"
   ]
  },
  {
   "cell_type": "markdown",
   "metadata": {},
   "source": [
    "#  Loading Files with Summary or Meta Data\n",
    "\n",
    "Load either of the files Zipcode_Demos.csv or Zipcode_Demos.xlsx. What's going on with this dataset? Clean it up into a useable format and describe the nuances of how the data is currently formatted.\n",
    "\n",
    "All data files are stored in a folder titled 'Data'."
   ]
  },
  {
   "cell_type": "code",
   "execution_count": 6,
   "metadata": {},
   "outputs": [
    {
     "name": "stdout",
     "output_type": "stream",
     "text": [
      "   47  JURISDICTION NAME  COUNT PARTICIPANTS  COUNT FEMALE  PERCENT FEMALE  \\\n",
      "0  48              10001                  44            22            0.50   \n",
      "1  49              10002                  35            19            0.54   \n",
      "2  50              10003                   1             1            1.00   \n",
      "3  51              10004                   0             0            0.00   \n",
      "4  52              10005                   2             2            1.00   \n",
      "5  53              10006                   6             2            0.33   \n",
      "6  54              10007                   1             0            0.00   \n",
      "7  55              10009                   2             0            0.00   \n",
      "8  56              10010                   0             0            0.00   \n",
      "9  57              10011                   3             2            0.67   \n",
      "\n",
      "   COUNT MALE  PERCENT MALE  COUNT GENDER UNKNOWN  PERCENT GENDER UNKNOWN  \\\n",
      "0          22          0.50                     0                       0   \n",
      "1          16          0.46                     0                       0   \n",
      "2           0          0.00                     0                       0   \n",
      "3           0          0.00                     0                       0   \n",
      "4           0          0.00                     0                       0   \n",
      "5           4          0.67                     0                       0   \n",
      "6           1          1.00                     0                       0   \n",
      "7           2          1.00                     0                       0   \n",
      "8           0          0.00                     0                       0   \n",
      "9           1          0.33                     0                       0   \n",
      "\n",
      "   COUNT GENDER TOTAL               ...                 \\\n",
      "0                  44               ...                  \n",
      "1                  35               ...                  \n",
      "2                   1               ...                  \n",
      "3                   0               ...                  \n",
      "4                   2               ...                  \n",
      "5                   6               ...                  \n",
      "6                   1               ...                  \n",
      "7                   2               ...                  \n",
      "8                   0               ...                  \n",
      "9                   3               ...                  \n",
      "\n",
      "   COUNT CITIZEN STATUS TOTAL  PERCENT CITIZEN STATUS TOTAL  \\\n",
      "0                          44                           100   \n",
      "1                          35                           100   \n",
      "2                           1                           100   \n",
      "3                           0                             0   \n",
      "4                           2                           100   \n",
      "5                           6                           100   \n",
      "6                           1                           100   \n",
      "7                           2                           100   \n",
      "8                           0                             0   \n",
      "9                           3                           100   \n",
      "\n",
      "   COUNT RECEIVES PUBLIC ASSISTANCE  PERCENT RECEIVES PUBLIC ASSISTANCE  \\\n",
      "0                                20                                0.45   \n",
      "1                                 2                                0.06   \n",
      "2                                 0                                0.00   \n",
      "3                                 0                                0.00   \n",
      "4                                 0                                0.00   \n",
      "5                                 0                                0.00   \n",
      "6                                 1                                1.00   \n",
      "7                                 0                                0.00   \n",
      "8                                 0                                0.00   \n",
      "9                                 0                                0.00   \n",
      "\n",
      "   COUNT NRECEIVES PUBLIC ASSISTANCE  PERCENT NRECEIVES PUBLIC ASSISTANCE  \\\n",
      "0                                 24                                 0.55   \n",
      "1                                 33                                 0.94   \n",
      "2                                  1                                 1.00   \n",
      "3                                  0                                 0.00   \n",
      "4                                  2                                 1.00   \n",
      "5                                  6                                 1.00   \n",
      "6                                  0                                 0.00   \n",
      "7                                  2                                 1.00   \n",
      "8                                  0                                 0.00   \n",
      "9                                  3                                 1.00   \n",
      "\n",
      "   COUNT PUBLIC ASSISTANCE UNKNOWN  PERCENT PUBLIC ASSISTANCE UNKNOWN  \\\n",
      "0                                0                                  0   \n",
      "1                                0                                  0   \n",
      "2                                0                                  0   \n",
      "3                                0                                  0   \n",
      "4                                0                                  0   \n",
      "5                                0                                  0   \n",
      "6                                0                                  0   \n",
      "7                                0                                  0   \n",
      "8                                0                                  0   \n",
      "9                                0                                  0   \n",
      "\n",
      "   COUNT PUBLIC ASSISTANCE TOTAL  PERCENT PUBLIC ASSISTANCE TOTAL  \n",
      "0                             44                              100  \n",
      "1                             35                              100  \n",
      "2                              1                              100  \n",
      "3                              0                                0  \n",
      "4                              2                              100  \n",
      "5                              6                              100  \n",
      "6                              1                              100  \n",
      "7                              2                              100  \n",
      "8                              0                                0  \n",
      "9                              3                              100  \n",
      "\n",
      "[10 rows x 47 columns]\n"
     ]
    }
   ],
   "source": [
    "#Your code here\n",
    "import pandas as pd\n",
    "df_zipcodes = pd.read_csv('Data/Zipcode_Demos.csv', skiprows = 47)\n",
    "print(df_zipcodes)\n",
    "\n",
    "# There were 46 summary rows with average counts at the beginning of the dataset"
   ]
  },
  {
   "cell_type": "markdown",
   "metadata": {},
   "source": [
    "## Level Up (Optional)\n",
    "\n",
    "### Loading Corrupt CSV files\n",
    "\n",
    "Occassionally, you encountered some really ill formatted data. One example of this can be data that has strings containing commas in a csv file. Under the standard protocol, when this occurs, one is suppossed to use quotes to differentiate between the commas denoting fields and commas within those fields themselves. For example, we could have a table like this:  \n",
    "\n",
    "ReviewerID,Rating,N_reviews,Review,VenueID\n",
    "123456,4,137,This restuarant was pretty good, we had a great time.,98765\n",
    "\n",
    "Which should be saved like this if it were a csv (to avoid confusion with the commas in the Review text):\n",
    "\"ReviewerID\",\"Rating\",\"N_reviews\",\"Review\",\"VenueID\"\n",
    "\"123456\",\"4\",\"137\",\"This restuarant was pretty good, we had a great time.\",\"98765\""
   ]
  },
  {
   "cell_type": "markdown",
   "metadata": {},
   "source": [
    "Attempt to import the corrupt file, or at least a small preview of it. It is appropriately titled Yelp_Reviews_corrupt.csv. Investigate some of the intricacies of skipping rows to then pass over this error and comment on what you think is going on."
   ]
  },
  {
   "cell_type": "code",
   "execution_count": null,
   "metadata": {
    "collapsed": true
   },
   "outputs": [],
   "source": [
    "#Hint: here's a useful programming pattern to use.\n",
    "try:\n",
    "    #do something\n",
    "except Exception as e:\n",
    "    #handle your exception e"
   ]
  },
  {
   "cell_type": "code",
   "execution_count": null,
   "metadata": {
    "collapsed": true
   },
   "outputs": [],
   "source": [
    "#Your code here"
   ]
  }
 ],
 "metadata": {
  "kernelspec": {
   "display_name": "Python 3",
   "language": "python",
   "name": "python3"
  },
  "language_info": {
   "codemirror_mode": {
    "name": "ipython",
    "version": 3
   },
   "file_extension": ".py",
   "mimetype": "text/x-python",
   "name": "python",
   "nbconvert_exporter": "python",
   "pygments_lexer": "ipython3",
   "version": "3.7.0"
  }
 },
 "nbformat": 4,
 "nbformat_minor": 2
}
